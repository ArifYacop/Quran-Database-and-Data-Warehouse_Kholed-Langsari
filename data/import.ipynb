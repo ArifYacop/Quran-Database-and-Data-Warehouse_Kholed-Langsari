{
 "cells": [
  {
   "cell_type": "code",
   "execution_count": null,
   "metadata": {},
   "outputs": [],
   "source": [
    "import requests\n",
    "import pandas as pd"
   ]
  },
  {
   "cell_type": "code",
   "execution_count": null,
   "metadata": {},
   "outputs": [],
   "source": [
    "url = 'https://quranenc.com/api/v1/translations/list/[[{language}]]/?localization={language_iso_code}'\n",
    "re = requests.get(url)\n",
    "df = re.json()\n",
    "print(df)"
   ]
  },
  {
   "cell_type": "code",
   "execution_count": null,
   "metadata": {},
   "outputs": [],
   "source": [
    "from urllib.request import urlopen\n",
    "import json\n",
    "import psycopg2"
   ]
  },
  {
   "cell_type": "code",
   "execution_count": null,
   "metadata": {},
   "outputs": [],
   "source": [
    "HOST = \"localhost\"\n",
    "DB = 'quran'\n",
    "DB_USER = 'postgres'\n",
    "DB_PASSWORD = '@Arifyacop99'\n",
    "DB_POST = '5432'\n",
    "try:\n",
    "    conn = psycopg2.connect(\n",
    "        host = HOST,\n",
    "        database = DB,\n",
    "        user = DB_USER,\n",
    "        password = DB_PASSWORD,\n",
    "        port = DB_POST\n",
    ")\n",
    "    print (f\"You connect database \"  + DB +\" successfully\")\n",
    "except psycopg2.Error as e: \n",
    "    print(\"Error: Could not make connection to the Postgres database\")\n",
    "    print(e)\n",
    "\n",
    "try: \n",
    "    cur = conn.cursor()\n",
    "except psycopg2.Error as e: \n",
    "    print(\"Error: Could not get curser to the Database\")\n",
    "    print(e)\n",
    "\n",
    "conn.set_session(autocommit=True)\n"
   ]
  },
  {
   "cell_type": "code",
   "execution_count": null,
   "metadata": {},
   "outputs": [],
   "source": [
    "try: \n",
    "    cur.execute(\"CREATE TABLE IF NOT EXISTS quran_row (key varchar,language_iso_code varchar,version varchar,last_update timestamp,title varchar,discription varchar);\")\n",
    "except psycopg2.Error as e: \n",
    "    print(\"Error: Issue creating table\")\n",
    "    print (e)"
   ]
  },
  {
   "cell_type": "code",
   "execution_count": null,
   "metadata": {},
   "outputs": [],
   "source": [
    "query = \"insert into quran_row (key,language_iso_code,version,last_update,title,discription) values({},'{}','{}','{}','{}','{}')\".format('english_saheeh','Big Bird','Sesame Street','Fakeville','12345','2341')\n",
    "print(cur.mogrify(query))"
   ]
  },
  {
   "cell_type": "code",
   "execution_count": null,
   "metadata": {},
   "outputs": [],
   "source": [
    "query2 = \"insert into quran_row (key,language_iso_code,version,last_update,title,discription) values(%s,%s,%s,%s,%s,%s)\"\n",
    "data=(1,'Big Bird','Sesame Street','Fakeville','12345','asgsa')\n",
    "print(cur.mogrify(query2,data))"
   ]
  },
  {
   "cell_type": "code",
   "execution_count": null,
   "metadata": {},
   "outputs": [],
   "source": [
    "cur.execute(query2,data)\n",
    "conn.commit()"
   ]
  },
  {
   "cell_type": "code",
   "execution_count": null,
   "metadata": {},
   "outputs": [],
   "source": [
    "query = \"insert into quran_row (key,language_iso_code,version,last_update,title,discription) values(%s,%s,%s,%s,%s,%s)\"\n",
    "cur.executemany(query,df)\n",
    "conn.commit()"
   ]
  },
  {
   "cell_type": "code",
   "execution_count": null,
   "metadata": {},
   "outputs": [],
   "source": [
    "for i in range(115) :\n",
    "    url = \"https://quranenc.com/api/v1/translation/sura/english_saheeh/\" + str(i)\n",
    "    r = requests.get(url)\n",
    "    j = r.json()"
   ]
  },
  {
   "cell_type": "code",
   "execution_count": null,
   "metadata": {},
   "outputs": [],
   "source": [
    "print(j)"
   ]
  },
  {
   "cell_type": "code",
   "execution_count": null,
   "metadata": {},
   "outputs": [],
   "source": [
    "HOST = \"localhost\"\n",
    "DB = 'quran'\n",
    "DB_USER = 'postgres'\n",
    "DB_PASSWORD = '@Arifyacop99'\n",
    "DB_POST = '5432'\n",
    "try:\n",
    "    conn = psycopg2.connect(\n",
    "        host = HOST,\n",
    "        database = DB,\n",
    "        user = DB_USER,\n",
    "        password = DB_PASSWORD,\n",
    "        port = DB_POST\n",
    ")\n",
    "    print (f\"You connect database \"  + DB +\" successfully\")\n",
    "except psycopg2.Error as e: \n",
    "    print(\"Error: Could not make connection to the Postgres database\")\n",
    "    print(e)\n",
    "\n",
    "try: \n",
    "    cur = conn.cursor()\n",
    "except psycopg2.Error as e: \n",
    "    print(\"Error: Could not get curser to the Database\")\n",
    "    print(e)\n",
    "\n",
    "conn.set_session(autocommit=True)"
   ]
  },
  {
   "cell_type": "code",
   "execution_count": null,
   "metadata": {},
   "outputs": [],
   "source": [
    "try: \n",
    "    cur.execute(\"CREATE TABLE IF NOT EXISTS quran_data (id varchar,sura varchar,aya varchar,translation varchar,footnotes varchar);\")\n",
    "except psycopg2.Error as e: \n",
    "    print(\"Error: Issue creating table\")\n",
    "    print (e)"
   ]
  },
  {
   "cell_type": "code",
   "execution_count": null,
   "metadata": {},
   "outputs": [],
   "source": [
    "query2 = \"insert into quran_data (id,sura,aya,translation,footnotes) values(%s,%s,%s,%s,%s)\"\n",
    "data=('6231','114','1','23','(1) Say, \"I seek refuge in the Lord of mankind\"')\n",
    "print(cur.mogrify(query2,data))"
   ]
  },
  {
   "cell_type": "code",
   "execution_count": null,
   "metadata": {},
   "outputs": [],
   "source": [
    "cur.execute(query2,data)\n",
    "conn.commit()"
   ]
  },
  {
   "cell_type": "code",
   "execution_count": null,
   "metadata": {},
   "outputs": [],
   "source": [
    "import csv\n",
    "import pandas as pd"
   ]
  },
  {
   "cell_type": "code",
   "execution_count": null,
   "metadata": {},
   "outputs": [],
   "source": [
    "df = pd.read_csv('english_saheeh.csv')"
   ]
  },
  {
   "cell_type": "code",
   "execution_count": null,
   "metadata": {},
   "outputs": [],
   "source": [
    "import psycopg2 as db\n",
    "import csv\n",
    "# print(data_for_db)\n",
    "\n",
    "conn_string=\"dbname='dataengineering' host='localhost' user='postgres' password='admin'\"\n",
    "conn=db.connect(conn_string)\n",
    "cur=conn.cursor()\n",
    "\n",
    "query = \"insert into users (id,name,street,city,zip) values(%s,%s,%s,%s,%s)\"\n",
    "# print(cur.mogrify(query,data_for_db[1]))\n",
    "\n",
    "cur.executemany(query,data_for_db)\n",
    "conn.commit()\n",
    "query2 = \"select * from users\"\n",
    "\n",
    "cur.execute(query2)\n",
    "print(cur.fetchall())"
   ]
  },
  {
   "cell_type": "code",
   "execution_count": null,
   "metadata": {},
   "outputs": [],
   "source": [
    "try: \n",
    "    cur.execute(\"CREATE TABLE IF NOT EXISTS en_saheeh (id varchar, sura varchar, aya varchar, translation varchar, footnotes varchar);\")\n",
    "except psycopg2.Error as e: \n",
    "    print(\"Error: Issue creating table\")\n",
    "    print (e)"
   ]
  },
  {
   "cell_type": "code",
   "execution_count": null,
   "metadata": {},
   "outputs": [],
   "source": [
    "try: \n",
    "    cur.execute(\"select count(*) from en_saheeh\")\n",
    "except psycopg2.Error as e: \n",
    "    print(\"Error: Issue creating table\")\n",
    "    print (e)\n",
    "    \n",
    "print(cur.fetchall())"
   ]
  }
 ],
 "metadata": {
  "language_info": {
   "name": "python"
  },
  "orig_nbformat": 4
 },
 "nbformat": 4,
 "nbformat_minor": 2
}
